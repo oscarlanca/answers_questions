{
 "cells": [
  {
   "cell_type": "code",
   "execution_count": null,
   "metadata": {},
   "outputs": [],
   "source": [
    "#Aquí inicia\n",
    "score = 0\n",
    "score = int(score)\n",
    "\n",
    "#La parte de los nombres\n",
    "jugador = input(\"¿Cómo te llamas?\")\n",
    "jugador = jugador.title()\n",
    "print(\"\"\"Woliiii {jugador}, esto es Learning Python without Knowing. \n",
    "Habrá preguntas de diversos tipos. Así que esperemos hayan puesto atención en clase.\n",
    "¡Buena suerte!\"\"\".format(jugador))\n",
    "\n",
    "\n",
    "#Esto es lo que entiendo que se debe conectar\n",
    "\n",
    "\n",
    "Question = namedtuple(\"Question\", [\"question\", \"answers\", \"correct_answer\"])\n",
    "\n",
    "Start = \"\"\"Woliiii  {name}, welcome to Learning Python without Knowing! \n",
    "Habrá diversas preguntas de forma aleatoria.\n",
    "Escribe el número correcto de respuesta para ir sumando puntos. \n",
    "¿Sí sabes matemáticas?\"\"\"\n",
    "\n",
    "def learning_python(name, questions):\n",
    "    score = 0\n",
    "    for question in questions:\n",
    "        print(question.question)\n",
    "        for i, answer in enumerate(question.answers, start=1):\n",
    "            print(f\"{i}. {answer}\")\n",
    "\n",
    "        response = input(\"La respuesta es: \")\n",
    "        if response != question.correct_answer:\n",
    "            print(\"Jajaja ... no\")\n",
    "        else:\n",
    "            print(f\"Has ganado un auto {response} es correcto\")\n",
    "            score = score + 1\n",
    "        print(f\"Tu puntaje es {score} de {len(questions)}\")\n",
    "\n",
    "    print(f\"Tu puntaje es {score} de {len(questions)}\")\n",
    "    print(f\"Gracias por jugar {jugador}, eres el rival más débil.\")\n",
    "\n",
    "\n",
    "if __name__ == \"__main__\":\n",
    "    questions = [Question(\"¿Cuál es el segundo nombre de Zahid?\",\n",
    "                          [\"Simón\", \"Ulises\", \"CORRECTA\", \"Rubén\"], \"3\"),\n",
    "                 Question(\"...?\",\n",
    "                          [\"...\", \"...\", \"...\", \"...\"], \"?\",\n",
    "                 ...]\n",
    "\n",
    "\n",
    "    name = input(\"¿Cómo te llamas? \").title()\n",
    "    print(Start.format(name=name, n=len(questions)))\n",
    "    learning_python(name, questions)"
   ]
  }
 ],
 "metadata": {
  "kernelspec": {
   "display_name": "Python 3",
   "language": "python",
   "name": "python3"
  },
  "language_info": {
   "codemirror_mode": {
    "name": "ipython",
    "version": 3
   },
   "file_extension": ".py",
   "mimetype": "text/x-python",
   "name": "python",
   "nbconvert_exporter": "python",
   "pygments_lexer": "ipython3",
   "version": "3.8.5"
  }
 },
 "nbformat": 4,
 "nbformat_minor": 4
}
